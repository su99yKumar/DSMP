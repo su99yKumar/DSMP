{
  "nbformat": 4,
  "nbformat_minor": 0,
  "metadata": {
    "colab": {
      "provenance": [],
      "toc_visible": true
    },
    "kernelspec": {
      "name": "python3",
      "display_name": "Python 3"
    },
    "language_info": {
      "name": "python"
    }
  },
  "cells": [
    {
      "cell_type": "markdown",
      "source": [
        "# Task : Session 1\n",
        "Solve these questions own your own and try to test yourself what you have learned in the session.\n",
        "\n",
        "Happy Learning!"
      ],
      "metadata": {
        "id": "A05OG15VqOPF"
      }
    },
    {
      "cell_type": "markdown",
      "source": [
        "### Q1 :- Print the given strings as per stated format.\n",
        "\n",
        "**Given strings**:\n",
        "```\n",
        "\"Data\" \"Science\" \"Mentorship\" \"Program\"\n",
        "\"By\" \"CampusX\"\n",
        "```\n",
        "**Output**:\n",
        "```\n",
        "Data-Science-Mentorship-Program-started-By-CampusX\n",
        "```\n",
        "\n",
        "Concept- [Seperator and End]"
      ],
      "metadata": {
        "id": "2doIXf8bqe9_"
      }
    },
    {
      "cell_type": "code",
      "source": [
        "# Write your code here\n",
        "print(\"Data\",\"Science\", \"Mentorship\", \"Program\", \"started\", \"By\", \"Campusx\", sep='-')"
      ],
      "metadata": {
        "id": "-em6d3KErDtp",
        "outputId": "e4c1707d-8ce3-4dac-f873-cf990e31868f",
        "colab": {
          "base_uri": "https://localhost:8080/"
        }
      },
      "execution_count": 1,
      "outputs": [
        {
          "output_type": "stream",
          "name": "stdout",
          "text": [
            "Data-Science-Mentorship-Program-started-By-Campusx\n"
          ]
        }
      ]
    },
    {
      "cell_type": "markdown",
      "source": [
        "### Q2:- Write a program that will convert celsius value to fahrenheit."
      ],
      "metadata": {
        "id": "1KUpN7ZTrC3_"
      }
    },
    {
      "cell_type": "code",
      "source": [
        "# Write your code here\n",
        "Celsius= int(input(\"Enter in Celsius\"))\n",
        "Fahrenheit= (9/5)*Celsius + 32\n",
        "print(\"Fahrenheit= \", Fahrenheit)"
      ],
      "metadata": {
        "id": "yxKYhYQiqWfj",
        "outputId": "4ebe353c-7cd7-447c-cafa-738ccdb38808",
        "colab": {
          "base_uri": "https://localhost:8080/"
        }
      },
      "execution_count": 8,
      "outputs": [
        {
          "output_type": "stream",
          "name": "stdout",
          "text": [
            "Enter in Celsius44\n",
            "Fahrenheit=  111.2\n"
          ]
        }
      ]
    },
    {
      "cell_type": "markdown",
      "source": [
        "### Q3:- Take 2 numbers as input from the user.Write a program to swap the numbers without using any special python syntax."
      ],
      "metadata": {
        "id": "RLrOBBJurLB2"
      }
    },
    {
      "cell_type": "code",
      "source": [
        "# Write your code here\n",
        "num1= (int(input(\"Enter First Number: \")))\n",
        "num2= (int(input(\"Enter Second Number: \")))\n",
        "\n",
        "temp=num1\n",
        "num1=num2;\n",
        "num2=temp;\n",
        "print(sep='/n')\n",
        "print(\"Swappend numbers are: \")\n",
        "print(\"First Number: \", num1)\n",
        "print(\"Second Number: \",num2)\n",
        "\n"
      ],
      "metadata": {
        "id": "yPn7if0TrJ4F",
        "outputId": "18beca61-fad7-4c84-cb7c-7963f0fd1405",
        "colab": {
          "base_uri": "https://localhost:8080/"
        }
      },
      "execution_count": 12,
      "outputs": [
        {
          "output_type": "stream",
          "name": "stdout",
          "text": [
            "Enter First Number: 1\n",
            "Enter Second Number: 3\n",
            "\n",
            "Swappend numbers are \n",
            "First Number:  3\n",
            "Second Number:  1\n"
          ]
        }
      ]
    },
    {
      "cell_type": "markdown",
      "source": [
        "### Q4:- Write a program to find the euclidean distance between two coordinates.Take both the coordinates from the user as input."
      ],
      "metadata": {
        "id": "waLCP1bjr7ML"
      }
    },
    {
      "cell_type": "code",
      "source": [
        "# Write your code here\n",
        "import math\n",
        "x1, y1=int(input(\"X1: \")), int(input(\"Y1: \"))\n",
        "x2, y2=int(input(\"X2: \")), int(input(\"Y2: \"))\n",
        "\n",
        "distance = math.sqrt(math.pow((x1 -x2), 2) + math.pow((y1- y2), 2))\n",
        "distance=\"{0:.2f}\".format(distance)\n",
        "print(\"The Euclidean distance between these two coordinate points are equals to = \", distance)\n",
        "\n"
      ],
      "metadata": {
        "id": "Pl1Sv-xnrxnH",
        "outputId": "fe337e11-f978-4762-80e2-f3566098647f",
        "colab": {
          "base_uri": "https://localhost:8080/"
        }
      },
      "execution_count": 24,
      "outputs": [
        {
          "output_type": "stream",
          "name": "stdout",
          "text": [
            "X1: 1\n",
            "Y1: 1\n",
            "X2: 4\n",
            "Y2: 4\n",
            "%2f The Euclidean distance between these two coordinate points are equals to =  4.24\n"
          ]
        }
      ]
    },
    {
      "cell_type": "markdown",
      "source": [
        "### Q5:- Write a program to find the simple interest when the value of principle,rate of interest and time period is provided by the user.\n"
      ],
      "metadata": {
        "id": "VLrhg-FRsHjR"
      }
    },
    {
      "cell_type": "code",
      "source": [
        "# Write your code here\n",
        "p,r,t=int(input(\"Enter Principal Amount: \")), int(input(\"Enter Interest Rate: \")), int(input(\"Enter Time Period: \"))\n",
        "\n",
        "si= (p*r*t)/100;\n",
        "\n",
        "print(\"Simple Interest = \", si)"
      ],
      "metadata": {
        "id": "s40DlReZsTmY",
        "outputId": "4c9283f3-1525-4f75-8aca-7d028d911aae",
        "colab": {
          "base_uri": "https://localhost:8080/"
        }
      },
      "execution_count": 25,
      "outputs": [
        {
          "output_type": "stream",
          "name": "stdout",
          "text": [
            "Enter Principal Amount: 1000\n",
            "Enter Interest Rate: 10\n",
            "Enter Time Period: 10\n",
            "Simple Interest =  1000.0\n"
          ]
        }
      ]
    },
    {
      "cell_type": "markdown",
      "source": [
        "### Q6:- Write a program that will tell the number of dogs and chicken are there when the user will provide the value of total heads and legs.\n",
        "\n",
        "For example:\n",
        "Input:\n",
        "heads -> 4\n",
        "legs -> 12\n",
        "<br>\n",
        "Output:\n",
        "dogs -> 2\n",
        "chicken -> 2\n",
        "\n",
        "\n",
        "\n"
      ],
      "metadata": {
        "id": "LMy0BTUktYKa"
      }
    },
    {
      "cell_type": "code",
      "source": [
        "# Write your code here\n",
        "heads, legs= int(input(\"Heads-> \")), int(input(\" Legs-> \"))\n",
        "dogs = (legs - (heads * 2)) / 2\n",
        "chickens = heads - dogs\n",
        "\n",
        "print(\"Dogs-> \" dog, \" Chickens-> \", chickens)"
      ],
      "metadata": {
        "id": "XSBvJoA4tXaG"
      },
      "execution_count": null,
      "outputs": []
    },
    {
      "cell_type": "markdown",
      "source": [
        "### Q7:- Write a program to find the sum of squares of first n natural numbers where n will be provided by the user."
      ],
      "metadata": {
        "id": "gJ7C5kZYt4BP"
      }
    },
    {
      "cell_type": "code",
      "source": [
        "# Write your code here\n",
        "n=int(input(\"Enter the number: \"))\n",
        "op= ((n)*(n+1)*(2*n+1))/6\n",
        "op= \"{0:.0f}\".format(op)\n",
        "print(\"Sum of Squares of till entered number = \", op)"
      ],
      "metadata": {
        "id": "_tHsmEHzt2nX",
        "outputId": "22da5d8a-30f7-4d05-da11-621528028772",
        "colab": {
          "base_uri": "https://localhost:8080/"
        }
      },
      "execution_count": 28,
      "outputs": [
        {
          "output_type": "stream",
          "name": "stdout",
          "text": [
            "Enter the number: 4\n",
            "Sum of Squares of till entered number =  30\n"
          ]
        }
      ]
    },
    {
      "cell_type": "markdown",
      "source": [
        "### Q8:- Given the first 2 terms of an Arithmetic Series.Find the Nth term of the series. Assume all inputs are provided by the user."
      ],
      "metadata": {
        "id": "FHrMM7g-yG1h"
      }
    },
    {
      "cell_type": "code",
      "source": [
        "# Write your code here\n",
        "num1, num2, n= int(input(\"Enter First Number: \")), int(input(\"Enter Second Number: \")), int(input(\"Enter N: \"))\n",
        "d= num2-num1;\n",
        "s= num1+ (n-1)*d;\n",
        "\n",
        "print(\"Nth term = \", s);\n"
      ],
      "metadata": {
        "id": "go4_kmZmyVSx",
        "outputId": "26563b4c-0321-4c4a-b900-881736f7a654",
        "colab": {
          "base_uri": "https://localhost:8080/"
        }
      },
      "execution_count": 29,
      "outputs": [
        {
          "output_type": "stream",
          "name": "stdout",
          "text": [
            "Enter First Number: 1\n",
            "Enter Second Number: 2\n",
            "Enter N: 30\n",
            "Nth term =  30\n"
          ]
        }
      ]
    },
    {
      "cell_type": "markdown",
      "source": [
        "### Q9:- Given 2 fractions, find the sum of those 2 fractions.Take the numerator and denominator values of the fractions from the user."
      ],
      "metadata": {
        "id": "QgyRX_es1oum"
      }
    },
    {
      "cell_type": "code",
      "source": [
        "# Write your code here\n",
        "f1, d1=int(input(\"Enter numerator for first fraction \")), int(input(\"Enter denominator for first fraction \"))\n",
        "f2, d2=int(input(\"Enter numerator for second fraction \")), int(input(\"Enter denominator for second  fraction \"))\n",
        "\n",
        "sum= ((f1*d2)+(f2*d1))/(d1*d2);\n",
        "print(sum)\n"
      ],
      "metadata": {
        "id": "X05xqFS1yW16",
        "outputId": "26995035-5345-4b12-c875-d76d04c39b32",
        "colab": {
          "base_uri": "https://localhost:8080/"
        }
      },
      "execution_count": 2,
      "outputs": [
        {
          "output_type": "stream",
          "name": "stdout",
          "text": [
            "Enter numerator for first fraction 1\n",
            "Enter denominator for first fraction 3\n",
            "Enter numerator for second fraction 9\n",
            "Enter denominator for second  fraction 3\n",
            "3.3333333333333335\n"
          ]
        }
      ]
    },
    {
      "cell_type": "markdown",
      "source": [
        "### Q10:- Given the height, width and breadth of a milk tank, you have to find out how many glasses of milk can be obtained? Assume all the inputs are provided by the user.\n",
        "\n",
        "\n",
        "\n",
        "Input:<br>\n",
        "Dimensions of the milk tank<br>\n",
        "H = 20cm, L = 20cm, B = 20cm\n",
        "<br><br>\n",
        "Dimensions of the glass<br>\n",
        "h = 3cm, r = 1cm"
      ],
      "metadata": {
        "id": "eaql38ln13u7"
      }
    },
    {
      "cell_type": "code",
      "source": [
        "# Write your code here\n",
        "import math\n",
        "h, l, b= int((input(\"Enter Height of the milk tank \"))), int((input(\"Enter Length of the milk tank \"))), int((input(\"Enter Breadth of the milk tank \")))\n",
        "\n",
        "ht, r=int((input(\"Enter radius of the glass \"))), int((input(\"Enter Height of the glass \")));\n",
        "\n",
        "vol1 = h*l*b\n",
        "vol2= (3.14)*(r*r)*h\n",
        "\n",
        "cnt = math.floor(vol1/vol2);\n",
        "\n",
        "print(cnt);\n"
      ],
      "metadata": {
        "id": "FePZqno74eWv",
        "outputId": "fa407741-dd03-4bb7-cde2-5d2de94526aa",
        "colab": {
          "base_uri": "https://localhost:8080/"
        }
      },
      "execution_count": 2,
      "outputs": [
        {
          "output_type": "stream",
          "name": "stdout",
          "text": [
            "Enter Height of the milk tank 10\n",
            "Enter Length of the milk tank 20\n",
            "Enter Breadth of the milk tank 30\n",
            "Enter radius of the glass 4\n",
            "Enter Height of the glass 6\n",
            "5\n"
          ]
        }
      ]
    }
  ]
}