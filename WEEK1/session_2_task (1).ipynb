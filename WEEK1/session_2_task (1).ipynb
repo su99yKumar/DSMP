{
  "nbformat": 4,
  "nbformat_minor": 0,
  "metadata": {
    "colab": {
      "provenance": []
    },
    "kernelspec": {
      "name": "python3",
      "display_name": "Python 3"
    },
    "language_info": {
      "name": "python"
    }
  },
  "cells": [
    {
      "cell_type": "markdown",
      "source": [
        "### `Problem 1`: Write a program that will give you in hand monthly salary after deduction on CTC - HRA(10%), DA(5%), PF(3%) and taxes deduction as below:\n",
        "\n",
        "> Salary(Lakhs) : Tax(%)\n",
        "\n",
        "*   Below 5 : 0%\n",
        "*   5-10 : 10%\n",
        "*   10-20 : 20%\n",
        "*   aboove 20 : 30%"
      ],
      "metadata": {
        "id": "w6RlOAXV2PWh"
      }
    },
    {
      "cell_type": "code",
      "source": [
        "# Write code here\n",
        "s= int(input(\"Enter Your Salary \"))\n",
        "\n",
        "if(s<=500000):s= s- (0.18)*s\n",
        "elif(s<=1000000): s= s- (0.28)*s\n",
        "elif(s<=2000000): s= s- (0.38)*s\n",
        "else: s= s- (0.48)*s\n",
        "\n",
        "s= int(s)\n",
        "print(\"Monthly Salary = \", s//12)"
      ],
      "metadata": {
        "id": "7tMHvKYO2etI",
        "colab": {
          "base_uri": "https://localhost:8080/"
        },
        "outputId": "2cacbf94-fbea-4890-d4d1-8009b0d53885"
      },
      "execution_count": 3,
      "outputs": [
        {
          "output_type": "stream",
          "name": "stdout",
          "text": [
            "Enter Your Salary 1200000\n",
            "Monthly Salary =  62000\n"
          ]
        }
      ]
    },
    {
      "cell_type": "markdown",
      "source": [
        "### `Problem 2`: Write a program that take a user input of three angles and will find out whether it can form a triangle or not."
      ],
      "metadata": {
        "id": "tYzCGqwl2hfN"
      }
    },
    {
      "cell_type": "code",
      "source": [
        "# Write code here\n",
        "a, b, c = int(input()), int(input()), int(input())\n",
        "\n",
        "if a+b+c==180 and a>0 and b>0 and c>0 : print(\"Possible\")\n",
        "else: print(\"Not Possible\")"
      ],
      "metadata": {
        "id": "FYEqln-I2kxV",
        "colab": {
          "base_uri": "https://localhost:8080/"
        },
        "outputId": "4d526eab-385b-4331-8219-49fb5b8b573f"
      },
      "execution_count": 1,
      "outputs": [
        {
          "output_type": "stream",
          "name": "stdout",
          "text": [
            "80\n",
            "60\n",
            "40\n",
            "Possible\n"
          ]
        }
      ]
    },
    {
      "cell_type": "markdown",
      "source": [
        "### `Problem 3`: Write a program that will take user input of cost price and selling price and determines whether its a loss or a profit."
      ],
      "metadata": {
        "id": "5vEpPh8C2pE4"
      }
    },
    {
      "cell_type": "code",
      "source": [
        "# Write code here\n",
        "cp, sp= int(input(\"Enter Cost Price \")), int(input(\"Enter Selling Price \"))\n",
        "if cp>sp: print(\"Profit\")\n",
        "elif cp==sp: print(\"Breakeven\")\n",
        "else: print(\"Loss\")"
      ],
      "metadata": {
        "id": "jDwBXlkO2sfl",
        "colab": {
          "base_uri": "https://localhost:8080/"
        },
        "outputId": "9dbd4bed-e525-4006-9eef-60fdcd4acf5d"
      },
      "execution_count": 53,
      "outputs": [
        {
          "output_type": "stream",
          "name": "stdout",
          "text": [
            "Enter Cost Price 100\n",
            "Enter Selling Price 120\n",
            "Loss\n"
          ]
        }
      ]
    },
    {
      "cell_type": "markdown",
      "source": [
        "### `Problem 4`: Write a menu-driven program -\n",
        "1. cm to ft\n",
        "2. km to miles\n",
        "3. USD to INR\n",
        "4. exit"
      ],
      "metadata": {
        "id": "J_FG_cJW2ugT"
      }
    },
    {
      "cell_type": "code",
      "source": [],
      "metadata": {
        "id": "nGIwfPrymfWK"
      },
      "execution_count": null,
      "outputs": []
    },
    {
      "cell_type": "code",
      "source": [
        "# Write code here\n",
        "print(\" Menu \")\n",
        "print(\" Enter 1 for cm to ft \")\n",
        "print(\" Enter 2 for km to miles \")\n",
        "print(\" Enter 3 for usd to inr \")\n",
        "print(\" Enter 4 for exit \")\n",
        "\n",
        "while True:\n",
        "  inp= int(input(\"Enter your choice \"))\n",
        "  if inp==1:\n",
        "    cm= int(input(\"Enter your input in cm \"))\n",
        "    ft= int(cm * 0.0328084)\n",
        "    print(ft)\n",
        "\n",
        "  elif inp==2:\n",
        "    km= int(input(\"Enter your input in km \"))\n",
        "    ml= int(km * 0.621371)\n",
        "    print(ml)\n",
        "\n",
        "  elif inp==3:\n",
        "    usd= int(input(\"Enter your input in usd \"))\n",
        "    inr= int(usd * 74.96)\n",
        "    print(inr)\n",
        "\n",
        "  elif inp==4: break\n",
        "\n",
        "  else: print(\"Enter Valid Input\")\n",
        "\n",
        "\n",
        "\n",
        "\n"
      ],
      "metadata": {
        "id": "yBHhaCGQ2zpD",
        "outputId": "acfaf830-c094-439c-f539-52df7d1a1c8b",
        "colab": {
          "base_uri": "https://localhost:8080/"
        }
      },
      "execution_count": 4,
      "outputs": [
        {
          "name": "stdout",
          "output_type": "stream",
          "text": [
            " Menu \n",
            " Enter 1 for cm to ft \n",
            " Enter 2 for km to miles \n",
            " Enter 3 for usd to inr \n",
            " Enter 4 for exit \n",
            "Enter your choice 3\n",
            "Enter your input in usd 75\n",
            "5621\n",
            "Enter your choice 2\n",
            "Enter your input in km 1000\n",
            "621\n",
            "Enter your choice 5\n",
            "Enter Valid Input\n",
            "Enter your choice 1\n",
            "Enter your input in cm 100\n",
            "3\n",
            "Enter your choice 4\n"
          ]
        }
      ]
    },
    {
      "cell_type": "markdown",
      "source": [
        "### `Problem 5` - Exercise 12: Display Fibonacci series up to 10 terms.\n",
        "\n",
        "*Note: The Fibonacci Sequence is a series of numbers. The next number is found by adding up the two numbers before it. The first two numbers are 0 and 1. For example, 0, 1, 1, 2, 3, 5, 8, 13, 21. The next number in this series above is 13+21 = 34*"
      ],
      "metadata": {
        "id": "LJJ30_Yw27ZU"
      }
    },
    {
      "cell_type": "code",
      "source": [
        "# Write code here\n",
        "f=0\n",
        "s=1\n",
        "print(f, s, end=\",\")\n",
        "for i in range(2,10,1):\n",
        "   k=f+s\n",
        "   print(k,end=\",\")\n",
        "   f=s\n",
        "   s=k\n",
        "\n"
      ],
      "metadata": {
        "id": "ae_1rpe52-5R",
        "colab": {
          "base_uri": "https://localhost:8080/"
        },
        "outputId": "928c20b9-7ed7-40ca-a6e2-6f168f65fa52"
      },
      "execution_count": 48,
      "outputs": [
        {
          "output_type": "stream",
          "name": "stdout",
          "text": [
            "0 1,1,2,3,5,8,13,21,34,"
          ]
        }
      ]
    },
    {
      "cell_type": "markdown",
      "source": [
        "### `Problem 6` - Find the factorial of a given number.\n",
        "\n",
        "Write a program to use the loop to find the factorial of a given number.\n",
        "\n",
        "The factorial (symbol: `!`) means to multiply all whole numbers from the chosen number down to 1.\n",
        "\n",
        "For example: calculate the factorial of 5\n",
        "\n",
        "```bash\n",
        "5! = 5 × 4 × 3 × 2 × 1 = 120\n",
        "```\n",
        "\n",
        "Output:\n",
        "\n",
        "```bash\n",
        "120\n",
        "```"
      ],
      "metadata": {
        "id": "pk_I_S4m3PT5"
      }
    },
    {
      "cell_type": "code",
      "source": [
        "# Write code here\n",
        "n= int(input(\"Enter the number \"))\n",
        "s=1\n",
        "\n",
        "while n>0:\n",
        " s *=n\n",
        " n=n-1\n",
        "\n",
        "print(s)"
      ],
      "metadata": {
        "id": "lzXxHegx3Rkc",
        "colab": {
          "base_uri": "https://localhost:8080/"
        },
        "outputId": "666f2ca1-f4f1-40e4-8c42-999502b76cc8"
      },
      "execution_count": 42,
      "outputs": [
        {
          "output_type": "stream",
          "name": "stdout",
          "text": [
            "Enter the number 5\n",
            "120\n"
          ]
        }
      ]
    },
    {
      "cell_type": "markdown",
      "source": [
        "### `Problem 7` - Reverse a given integer number.\n",
        "\n",
        "Example:\n",
        "\n",
        "`Input:`\n",
        "\n",
        "```bash\n",
        "76542\n",
        "```\n",
        "\n",
        "`Output:`\n",
        "\n",
        "```bash\n",
        "24567\n",
        "```"
      ],
      "metadata": {
        "id": "-17IOi-g3UpU"
      }
    },
    {
      "cell_type": "code",
      "source": [
        "# Write code here\n",
        "import math\n",
        "n = int(input(\"Enter the number \"))\n",
        "rev=0\n",
        "while n>0:\n",
        "  d= n%10\n",
        "  rev=rev*10+d\n",
        "  n=n//10\n",
        "\n",
        "print(rev)"
      ],
      "metadata": {
        "id": "wJwLpKCr3aVA",
        "colab": {
          "base_uri": "https://localhost:8080/"
        },
        "outputId": "62fa03b4-18f2-4bb6-beb4-79dbeb44eedc"
      },
      "execution_count": 11,
      "outputs": [
        {
          "output_type": "stream",
          "name": "stdout",
          "text": [
            "Enter the number 12345\n",
            "54321\n"
          ]
        }
      ]
    },
    {
      "cell_type": "markdown",
      "source": [
        "### `Problem 8`: Take a user input as integer N. Find out the sum from 1 to N. If any number if divisible by 5, then skip that number. And if the sum is greater than 300, don't need to calculate the sum further more. Print the final result. And don't use for loop to solve this problem.\n",
        "\n",
        "**Example 1:**\n",
        "\n",
        "`Input:`\n",
        "\n",
        "```bash\n",
        "30\n",
        "```\n",
        "\n",
        "`Output:`\n",
        "\n",
        "```bash\n",
        "276\n",
        "```"
      ],
      "metadata": {
        "id": "-t8PJQaY3sHf"
      }
    },
    {
      "cell_type": "code",
      "source": [
        "# Write code here\n",
        "n = int(input(\"Enter the number \"))\n",
        "s=0\n",
        "\n",
        "i=1\n",
        "while i<=n:\n",
        "  if i%5==0:\n",
        "    continue\n",
        "\n",
        "  s+=i\n",
        "\n",
        "  if s>300:\n",
        "    s-=i\n",
        "    break\n",
        "\n",
        "  i+=1;\n",
        "\n",
        "print(s)\n"
      ],
      "metadata": {
        "id": "GZB6mGMP3ujT",
        "colab": {
          "base_uri": "https://localhost:8080/"
        },
        "outputId": "49b8ee8b-aca2-4380-f246-eb40487bfac1"
      },
      "execution_count": null,
      "outputs": [
        {
          "name": "stdout",
          "output_type": "stream",
          "text": [
            "Enter the number 50\n"
          ]
        }
      ]
    },
    {
      "cell_type": "markdown",
      "source": [
        "### `Problem 9`: Write a program that keeps on accepting a number from the user until the user enters Zero. Display the sum and average of all the numbers."
      ],
      "metadata": {
        "id": "Q7ggImeA3xm4"
      }
    },
    {
      "cell_type": "code",
      "source": [
        "# Write code here\n",
        "s=0\n",
        "cnt=0\n",
        "while True:\n",
        "  n = int(input(\"Enter the number \"))\n",
        "  s+=n\n",
        "  cnt+=1\n",
        "\n",
        "print(s, s/cnt)"
      ],
      "metadata": {
        "id": "t_YDSZDe4Kdo",
        "colab": {
          "base_uri": "https://localhost:8080/"
        },
        "outputId": "c7dca6d0-9e68-4beb-c999-8ee5d9c7baec"
      },
      "execution_count": 8,
      "outputs": [
        {
          "output_type": "stream",
          "name": "stdout",
          "text": [
            "Enter the number 1\n",
            "Enter the number 2\n",
            "Enter the number 0\n",
            "3 1.0\n"
          ]
        }
      ]
    },
    {
      "cell_type": "markdown",
      "source": [
        "###`Problem 9`: Write a program which will find all such numbers which are divisible by 7 but are not a multiple of 5, between 2000 and 3200 (both included). The numbers obtained should be printed in a comma-separated sequence on a single line."
      ],
      "metadata": {
        "id": "6EhvEMvm4R7s"
      }
    },
    {
      "cell_type": "code",
      "source": [
        "# Write code here\n",
        "for i in range(2000, 3200, 1):\n",
        "  if(i%7==0 and i%5!=0):\n",
        "     print(i, end=\",\")"
      ],
      "metadata": {
        "id": "d6RgP1B34T6c",
        "colab": {
          "base_uri": "https://localhost:8080/"
        },
        "outputId": "bc74c18a-efe2-4d03-a818-57f524ceb2c8"
      },
      "execution_count": 10,
      "outputs": [
        {
          "output_type": "stream",
          "name": "stdout",
          "text": [
            "2002,2009,2016,2023,2037,2044,2051,2058,2072,2079,2086,2093,2107,2114,2121,2128,2142,2149,2156,2163,2177,2184,2191,2198,2212,2219,2226,2233,2247,2254,2261,2268,2282,2289,2296,2303,2317,2324,2331,2338,2352,2359,2366,2373,2387,2394,2401,2408,2422,2429,2436,2443,2457,2464,2471,2478,2492,2499,2506,2513,2527,2534,2541,2548,2562,2569,2576,2583,2597,2604,2611,2618,2632,2639,2646,2653,2667,2674,2681,2688,2702,2709,2716,2723,2737,2744,2751,2758,2772,2779,2786,2793,2807,2814,2821,2828,2842,2849,2856,2863,2877,2884,2891,2898,2912,2919,2926,2933,2947,2954,2961,2968,2982,2989,2996,3003,3017,3024,3031,3038,3052,3059,3066,3073,3087,3094,3101,3108,3122,3129,3136,3143,3157,3164,3171,3178,3192,3199,"
          ]
        }
      ]
    },
    {
      "cell_type": "markdown",
      "source": [
        "###`Problem 10`: Write a program, which will find all such numbers between 1000 and 3000 (both included) such that each digit of the number is an even number. The numbers obtained should be printed in a space-separated sequence on a single line.\n",
        "\n"
      ],
      "metadata": {
        "id": "tYvmRR-G4Vp4"
      }
    },
    {
      "cell_type": "code",
      "source": [
        "# Write code here\n",
        "# before 2k all odd\n",
        "# after 2k all odd\n",
        "\n",
        "for i in range(2000, 3000, 1):\n",
        "  num=str(i)\n",
        "  if all(int(digit)%2==0 for digit in num):\n",
        "    print(i, end=\",\")"
      ],
      "metadata": {
        "id": "k6Gs1kIf4k19",
        "colab": {
          "base_uri": "https://localhost:8080/"
        },
        "outputId": "104bc73c-64c9-414e-b552-3ce8db399dcb"
      },
      "execution_count": 31,
      "outputs": [
        {
          "output_type": "stream",
          "name": "stdout",
          "text": [
            "2000,2002,2004,2006,2008,2020,2022,2024,2026,2028,2040,2042,2044,2046,2048,2060,2062,2064,2066,2068,2080,2082,2084,2086,2088,2200,2202,2204,2206,2208,2220,2222,2224,2226,2228,2240,2242,2244,2246,2248,2260,2262,2264,2266,2268,2280,2282,2284,2286,2288,2400,2402,2404,2406,2408,2420,2422,2424,2426,2428,2440,2442,2444,2446,2448,2460,2462,2464,2466,2468,2480,2482,2484,2486,2488,2600,2602,2604,2606,2608,2620,2622,2624,2626,2628,2640,2642,2644,2646,2648,2660,2662,2664,2666,2668,2680,2682,2684,2686,2688,2800,2802,2804,2806,2808,2820,2822,2824,2826,2828,2840,2842,2844,2846,2848,2860,2862,2864,2866,2868,2880,2882,2884,2886,2888,"
          ]
        }
      ]
    },
    {
      "cell_type": "markdown",
      "source": [
        "###`Problem 11`: A robot moves in a plane starting from the original point (0,0). The robot can move toward UP, DOWN, LEFT and RIGHT with a given steps.\n",
        "The trace of robot movement is shown as the following:\n",
        "```\n",
        "UP 5\n",
        "DOWN 3\n",
        "LEFT 3\n",
        "RIGHT 2\n",
        "!\n",
        "```\n",
        "> The numbers after the direction are steps.\n",
        "\n",
        "> `!` means robot stop there.\n",
        "\n",
        "**Please write a program to compute the distance from current position after a sequence of movement and original point.**\n",
        "\n",
        "*If the distance is a float, then just print the nearest integer.*\n",
        "\n",
        "Example:\n",
        "\n",
        "`Input`:\n",
        "```\n",
        "UP 5\n",
        "DOWN 3\n",
        "LEFT 3\n",
        "RIGHT 2\n",
        "!\n",
        "```\n",
        "`Output`:\n",
        "```\n",
        "2\n",
        "```"
      ],
      "metadata": {
        "id": "GV18IINT4mf5"
      }
    },
    {
      "cell_type": "code",
      "source": [
        "# Write code here\n",
        "POS=[0,0]\n",
        "while True:\n",
        "  s=input(\" Enter The Robot Path \")\n",
        "\n",
        "  if s == '!' : break\n",
        "  direction=s.split()[0]\n",
        "  steps= int(s.split()[1])\n",
        "\n",
        "  if direction=='UP':\n",
        "    POS[1]+=steps\n",
        "  elif direction=='DOWN':\n",
        "    POS[1]-=steps\n",
        "  elif direction=='LEFT':\n",
        "    POS[0]-=steps\n",
        "  elif direction=='RIGHT':\n",
        "    POS[0]+=steps\n",
        "  else: print(\"Enter Valid Input\")\n",
        "\n",
        "d= int((POS[0]**2 + POS[1]**2)**0.5)\n",
        "print(d)\n",
        "\n",
        "\n",
        "\n",
        "\n"
      ],
      "metadata": {
        "id": "6UNMC2aR4w5x",
        "colab": {
          "base_uri": "https://localhost:8080/"
        },
        "outputId": "5a3875c3-1cbf-4724-ef5b-ba3af17c1ce6"
      },
      "execution_count": 4,
      "outputs": [
        {
          "output_type": "stream",
          "name": "stdout",
          "text": [
            " Enter The Robot Path UP 5\n",
            " Enter The Robot Path D0WN 3\n",
            "Enter Valid Input\n",
            " Enter The Robot Path DOWN 3\n",
            " Enter The Robot Path LEFT 3\n",
            " Enter The Robot Path RIGHT 2\n",
            " Enter The Robot Path !\n",
            "2\n"
          ]
        }
      ]
    },
    {
      "cell_type": "markdown",
      "source": [
        "###`Problem 12`:Write a program to print whether a given number is a prime number or not"
      ],
      "metadata": {
        "id": "3fsAIAhK5GYY"
      }
    },
    {
      "cell_type": "markdown",
      "source": [
        "###`Problem 13`:Print all the Armstrong numbers in a given range.\n",
        "Range will be provided by the user<br>\n",
        "Armstrong number is a number that is equal to the sum of cubes of its digits. For example 0, 1, 153, 370, 371 and 407 are the Armstrong numbers."
      ],
      "metadata": {
        "id": "asAbmbK-5NHv"
      }
    },
    {
      "cell_type": "code",
      "source": [
        "# Write code here\n",
        "import math\n",
        "n = int(input(\"Enter the number \"))\n",
        "k=n\n",
        "s=0\n",
        "\n",
        "while k>0:\n",
        "  c=k%10\n",
        "  s +=math.pow(c, 3)\n",
        "  k =k//10\n",
        "\n",
        "if(s==n): print(\"yes\")\n",
        "else : print(\"no\")\n"
      ],
      "metadata": {
        "id": "PZuI67pm5jCT",
        "colab": {
          "base_uri": "https://localhost:8080/"
        },
        "outputId": "86a24ee3-e561-41f0-e65c-6e605b3853a8"
      },
      "execution_count": 1,
      "outputs": [
        {
          "output_type": "stream",
          "name": "stdout",
          "text": [
            "Enter the number 407\n",
            "yes\n"
          ]
        }
      ]
    },
    {
      "cell_type": "markdown",
      "source": [
        "###`Problem 14`:Calculate the angle between the hour hand and minute hand.\n",
        "\n",
        "Note: There can be two angles between hands; we need to print a minimum of two. Also, we need to print the floor of the final result angle. For example, if the final angle is 10.61, we need to print 10.\n",
        "\n",
        "Input:<br>\n",
        "H = 9 , M = 0<br>\n",
        "Output:<br>\n",
        "90<br>\n",
        "Explanation:<br>\n",
        "The minimum angle between hour and minute\n",
        "hand when the time is 9 is 90 degress."
      ],
      "metadata": {
        "id": "ClCQZMqT7gK0"
      }
    },
    {
      "cell_type": "code",
      "source": [
        "# Write code here\n",
        "\n",
        "#import math\n",
        "\n",
        "h = float(input(\"Enter the hour hand location \"))\n",
        "m = float(input(\"Enter the minute hand location \"))\n",
        "\n",
        "if h <0 or m < 0 or h>12 or m > 60 : print(\"Wrong input\")\n",
        "\n",
        "if h == 12: h = 0;\n",
        "if (m == 60):\n",
        "  m=0\n",
        "  h+=1\n",
        "  if h>12 : h=h-12\n",
        "\n",
        "hour_angle = 0.5 * (h * 60 + m)\n",
        "minute_angle = 6 * m\n",
        "\n",
        "angle = abs(hour_angle - minute_angle);\n",
        "\n",
        "angle = min(360 - angle, angle);\n",
        "\n",
        "print(angle)\n",
        "\n",
        "\n"
      ],
      "metadata": {
        "id": "tNBTCZML7jy_",
        "colab": {
          "base_uri": "https://localhost:8080/"
        },
        "outputId": "222a55f5-9490-408d-93d5-fb66b0555d34"
      },
      "execution_count": 9,
      "outputs": [
        {
          "output_type": "stream",
          "name": "stdout",
          "text": [
            "Enter the hour hand location 3\n",
            "Enter the minute hand location 30\n",
            "75.0\n"
          ]
        }
      ]
    },
    {
      "cell_type": "markdown",
      "source": [
        "###`Problem 15`:Given two rectangles, find if the given two rectangles overlap or not. A rectangle is denoted by providing the x and y coordinates of two points: the left top corner and the right bottom corner of the rectangle. Two rectangles sharing a side are considered overlapping. (L1 and R1 are the extreme points of the first rectangle and L2 and R2 are the extreme points of the second rectangle).\n",
        "\n",
        "Note: It may be assumed that the rectangles are parallel to the coordinate axis.\n",
        "\n",
        "<img src='https://www.geeksforgeeks.org/wp-content/uploads/rectanglesOverlap.png' width='300' height='200'>"
      ],
      "metadata": {
        "id": "GwacF9Co72Qc"
      }
    },
    {
      "cell_type": "code",
      "source": [
        "# Write code here\n",
        "l1x, l1y= int(input(\"Enter x coordinate of L1\")), int(input(\"Enter y coordinate of L1\"))\n",
        "r1x, r1y= int(input(\"Enter x coordinate of R1\")), int(input(\"Enter x coordinate of R1\"))\n",
        "\n",
        "l2x, l2y= int(input(\"Enter x coordinate of L2\")), int(input(\"Enter y coordinate of L2\"))\n",
        "r2x, r2y= int(input(\"Enter x coordinate of R2\")), int(input(\"Enter x coordinate of R2\"))\n",
        "\n",
        "if l1x == r1x or l1y == r1y or r2x == l2x or l2y == r2y:  print(\"No Overlap\")\n",
        "elif l1x > r2x or l2x > r1x : print(\"No Overlap\")\n",
        "elif r1y > l2y or r2y > l1y:  print(\"No Overlap\")\n",
        "else: print(\"Overlap\")\n"
      ],
      "metadata": {
        "id": "6rrw_lpH78Rs"
      },
      "execution_count": null,
      "outputs": []
    }
  ]
}